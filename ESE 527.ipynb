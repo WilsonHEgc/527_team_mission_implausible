{
 "cells": [
  {
   "cell_type": "code",
   "execution_count": 1,
   "id": "43afda7b",
   "metadata": {},
   "outputs": [],
   "source": [
    "import pandas as pd\n",
    "import numpy as np\n",
    "\n",
    "from sklearn.model_selection import train_test_split\n",
    "from sklearn.metrics import accuracy_score\n",
    "from sklearn.naive_bayes import GaussianNB\n",
    "from sklearn.ensemble import HistGradientBoostingClassifier\n",
    "from sklearn.linear_model import SGDClassifier\n",
    "from sklearn.kernel_approximation import RBFSampler\n",
    "from sklearn.pipeline import make_pipeline\n",
    "from sklearn.neighbors import KNeighborsClassifier\n",
    "from sklearn.cluster import MiniBatchKMeans\n",
    "from sklearn.mixture import BayesianGaussianMixture\n",
    "\n",
    "from sklearn.ensemble import IsolationForest\n",
    "from sklearn.neighbors import LocalOutlierFactor"
   ]
  },
  {
   "cell_type": "code",
   "execution_count": 2,
   "id": "abf75935",
   "metadata": {},
   "outputs": [],
   "source": [
    "# Load the dataset\n",
    "file_path = '/Users/russelwilson/Desktop/bank-full.csv'\n",
    "df = pd.read_csv(file_path, delimiter=';')\n",
    "\n",
    "df_original = pd.read_csv(file_path, delimiter=';')"
   ]
  },
  {
   "cell_type": "code",
   "execution_count": 3,
   "id": "db28e2a4",
   "metadata": {},
   "outputs": [],
   "source": [
    "categorical_columns = df.select_dtypes(include=['object']).columns"
   ]
  },
  {
   "cell_type": "code",
   "execution_count": 4,
   "id": "570106ec",
   "metadata": {},
   "outputs": [],
   "source": [
    "unique_values_info = {}\n",
    "for col in categorical_columns:\n",
    "    unique_counts = df[col].value_counts()\n",
    "    unique_values_info[col] = unique_counts"
   ]
  },
  {
   "cell_type": "code",
   "execution_count": 5,
   "id": "a0e7f2f1",
   "metadata": {},
   "outputs": [
    {
     "data": {
      "text/plain": [
       "{'job': blue-collar      9732\n",
       " management       9458\n",
       " technician       7597\n",
       " admin.           5171\n",
       " services         4154\n",
       " retired          2264\n",
       " self-employed    1579\n",
       " entrepreneur     1487\n",
       " unemployed       1303\n",
       " housemaid        1240\n",
       " student           938\n",
       " unknown           288\n",
       " Name: job, dtype: int64,\n",
       " 'marital': married     27214\n",
       " single      12790\n",
       " divorced     5207\n",
       " Name: marital, dtype: int64,\n",
       " 'education': secondary    23202\n",
       " tertiary     13301\n",
       " primary       6851\n",
       " unknown       1857\n",
       " Name: education, dtype: int64,\n",
       " 'default': no     44396\n",
       " yes      815\n",
       " Name: default, dtype: int64,\n",
       " 'housing': yes    25130\n",
       " no     20081\n",
       " Name: housing, dtype: int64,\n",
       " 'loan': no     37967\n",
       " yes     7244\n",
       " Name: loan, dtype: int64,\n",
       " 'contact': cellular     29285\n",
       " unknown      13020\n",
       " telephone     2906\n",
       " Name: contact, dtype: int64,\n",
       " 'month': may    13766\n",
       " jul     6895\n",
       " aug     6247\n",
       " jun     5341\n",
       " nov     3970\n",
       " apr     2932\n",
       " feb     2649\n",
       " jan     1403\n",
       " oct      738\n",
       " sep      579\n",
       " mar      477\n",
       " dec      214\n",
       " Name: month, dtype: int64,\n",
       " 'poutcome': unknown    36959\n",
       " failure     4901\n",
       " other       1840\n",
       " success     1511\n",
       " Name: poutcome, dtype: int64,\n",
       " 'y': no     39922\n",
       " yes     5289\n",
       " Name: y, dtype: int64}"
      ]
     },
     "execution_count": 5,
     "metadata": {},
     "output_type": "execute_result"
    }
   ],
   "source": [
    "unique_values_info"
   ]
  },
  {
   "cell_type": "code",
   "execution_count": 6,
   "id": "d87983ba",
   "metadata": {},
   "outputs": [],
   "source": [
    "# Label encoding for 'education'\n",
    "education_mapping = {'unknown': 0, 'primary': 1, 'secondary': 2, 'tertiary': 3}\n",
    "df['education_encoded'] = df['education'].map(education_mapping)"
   ]
  },
  {
   "cell_type": "code",
   "execution_count": 7,
   "id": "cd3c5bd4",
   "metadata": {},
   "outputs": [
    {
     "data": {
      "text/html": [
       "<div>\n",
       "<style scoped>\n",
       "    .dataframe tbody tr th:only-of-type {\n",
       "        vertical-align: middle;\n",
       "    }\n",
       "\n",
       "    .dataframe tbody tr th {\n",
       "        vertical-align: top;\n",
       "    }\n",
       "\n",
       "    .dataframe thead th {\n",
       "        text-align: right;\n",
       "    }\n",
       "</style>\n",
       "<table border=\"1\" class=\"dataframe\">\n",
       "  <thead>\n",
       "    <tr style=\"text-align: right;\">\n",
       "      <th></th>\n",
       "      <th>education</th>\n",
       "      <th>education_encoded</th>\n",
       "    </tr>\n",
       "  </thead>\n",
       "  <tbody>\n",
       "    <tr>\n",
       "      <th>0</th>\n",
       "      <td>tertiary</td>\n",
       "      <td>3</td>\n",
       "    </tr>\n",
       "    <tr>\n",
       "      <th>1</th>\n",
       "      <td>secondary</td>\n",
       "      <td>2</td>\n",
       "    </tr>\n",
       "    <tr>\n",
       "      <th>2</th>\n",
       "      <td>secondary</td>\n",
       "      <td>2</td>\n",
       "    </tr>\n",
       "    <tr>\n",
       "      <th>3</th>\n",
       "      <td>unknown</td>\n",
       "      <td>0</td>\n",
       "    </tr>\n",
       "    <tr>\n",
       "      <th>4</th>\n",
       "      <td>unknown</td>\n",
       "      <td>0</td>\n",
       "    </tr>\n",
       "  </tbody>\n",
       "</table>\n",
       "</div>"
      ],
      "text/plain": [
       "   education  education_encoded\n",
       "0   tertiary                  3\n",
       "1  secondary                  2\n",
       "2  secondary                  2\n",
       "3    unknown                  0\n",
       "4    unknown                  0"
      ]
     },
     "execution_count": 7,
     "metadata": {},
     "output_type": "execute_result"
    }
   ],
   "source": [
    "df[['education', 'education_encoded']].head()"
   ]
  },
  {
   "cell_type": "code",
   "execution_count": 8,
   "id": "95beaf87",
   "metadata": {},
   "outputs": [],
   "source": [
    "# Label encoding for 'default', 'housing', 'loan', 'y' \n",
    "binary_mapping = {'no': 0, 'yes': 1}\n",
    "columns_to_encode = ['default', 'housing', 'loan', 'y']\n",
    "\n",
    "for col in columns_to_encode:\n",
    "    df[col + '_encoded'] = df[col].map(binary_mapping)"
   ]
  },
  {
   "cell_type": "code",
   "execution_count": 9,
   "id": "ddca0675",
   "metadata": {},
   "outputs": [
    {
     "data": {
      "text/html": [
       "<div>\n",
       "<style scoped>\n",
       "    .dataframe tbody tr th:only-of-type {\n",
       "        vertical-align: middle;\n",
       "    }\n",
       "\n",
       "    .dataframe tbody tr th {\n",
       "        vertical-align: top;\n",
       "    }\n",
       "\n",
       "    .dataframe thead th {\n",
       "        text-align: right;\n",
       "    }\n",
       "</style>\n",
       "<table border=\"1\" class=\"dataframe\">\n",
       "  <thead>\n",
       "    <tr style=\"text-align: right;\">\n",
       "      <th></th>\n",
       "      <th>default</th>\n",
       "      <th>default_encoded</th>\n",
       "      <th>housing</th>\n",
       "      <th>housing_encoded</th>\n",
       "      <th>loan</th>\n",
       "      <th>loan_encoded</th>\n",
       "      <th>y</th>\n",
       "      <th>y_encoded</th>\n",
       "    </tr>\n",
       "  </thead>\n",
       "  <tbody>\n",
       "    <tr>\n",
       "      <th>0</th>\n",
       "      <td>no</td>\n",
       "      <td>0</td>\n",
       "      <td>yes</td>\n",
       "      <td>1</td>\n",
       "      <td>no</td>\n",
       "      <td>0</td>\n",
       "      <td>no</td>\n",
       "      <td>0</td>\n",
       "    </tr>\n",
       "    <tr>\n",
       "      <th>1</th>\n",
       "      <td>no</td>\n",
       "      <td>0</td>\n",
       "      <td>yes</td>\n",
       "      <td>1</td>\n",
       "      <td>no</td>\n",
       "      <td>0</td>\n",
       "      <td>no</td>\n",
       "      <td>0</td>\n",
       "    </tr>\n",
       "    <tr>\n",
       "      <th>2</th>\n",
       "      <td>no</td>\n",
       "      <td>0</td>\n",
       "      <td>yes</td>\n",
       "      <td>1</td>\n",
       "      <td>yes</td>\n",
       "      <td>1</td>\n",
       "      <td>no</td>\n",
       "      <td>0</td>\n",
       "    </tr>\n",
       "    <tr>\n",
       "      <th>3</th>\n",
       "      <td>no</td>\n",
       "      <td>0</td>\n",
       "      <td>yes</td>\n",
       "      <td>1</td>\n",
       "      <td>no</td>\n",
       "      <td>0</td>\n",
       "      <td>no</td>\n",
       "      <td>0</td>\n",
       "    </tr>\n",
       "    <tr>\n",
       "      <th>4</th>\n",
       "      <td>no</td>\n",
       "      <td>0</td>\n",
       "      <td>no</td>\n",
       "      <td>0</td>\n",
       "      <td>no</td>\n",
       "      <td>0</td>\n",
       "      <td>no</td>\n",
       "      <td>0</td>\n",
       "    </tr>\n",
       "  </tbody>\n",
       "</table>\n",
       "</div>"
      ],
      "text/plain": [
       "  default  default_encoded housing  housing_encoded loan  loan_encoded   y  \\\n",
       "0      no                0     yes                1   no             0  no   \n",
       "1      no                0     yes                1   no             0  no   \n",
       "2      no                0     yes                1  yes             1  no   \n",
       "3      no                0     yes                1   no             0  no   \n",
       "4      no                0      no                0   no             0  no   \n",
       "\n",
       "   y_encoded  \n",
       "0          0  \n",
       "1          0  \n",
       "2          0  \n",
       "3          0  \n",
       "4          0  "
      ]
     },
     "execution_count": 9,
     "metadata": {},
     "output_type": "execute_result"
    }
   ],
   "source": [
    "df[['default', 'default_encoded', 'housing', 'housing_encoded', 'loan', 'loan_encoded', 'y', 'y_encoded']].head()"
   ]
  },
  {
   "cell_type": "code",
   "execution_count": 10,
   "id": "4bcd83f2",
   "metadata": {},
   "outputs": [],
   "source": [
    "df['poutcome'] = df['poutcome'].replace(['unknown', 'other'], 'others')\n",
    "\n",
    "# Label encoding for 'poutcome' with the specified mapping\n",
    "poutcome_mapping = {'failure': 0, 'success': 1, 'others': -1}\n",
    "df['poutcome_encoded'] = df['poutcome'].map(poutcome_mapping)"
   ]
  },
  {
   "cell_type": "code",
   "execution_count": 11,
   "id": "91ad40b1",
   "metadata": {},
   "outputs": [
    {
     "data": {
      "text/html": [
       "<div>\n",
       "<style scoped>\n",
       "    .dataframe tbody tr th:only-of-type {\n",
       "        vertical-align: middle;\n",
       "    }\n",
       "\n",
       "    .dataframe tbody tr th {\n",
       "        vertical-align: top;\n",
       "    }\n",
       "\n",
       "    .dataframe thead th {\n",
       "        text-align: right;\n",
       "    }\n",
       "</style>\n",
       "<table border=\"1\" class=\"dataframe\">\n",
       "  <thead>\n",
       "    <tr style=\"text-align: right;\">\n",
       "      <th></th>\n",
       "      <th>poutcome</th>\n",
       "      <th>poutcome_encoded</th>\n",
       "    </tr>\n",
       "  </thead>\n",
       "  <tbody>\n",
       "    <tr>\n",
       "      <th>0</th>\n",
       "      <td>others</td>\n",
       "      <td>-1</td>\n",
       "    </tr>\n",
       "    <tr>\n",
       "      <th>1</th>\n",
       "      <td>others</td>\n",
       "      <td>-1</td>\n",
       "    </tr>\n",
       "    <tr>\n",
       "      <th>2</th>\n",
       "      <td>others</td>\n",
       "      <td>-1</td>\n",
       "    </tr>\n",
       "    <tr>\n",
       "      <th>3</th>\n",
       "      <td>others</td>\n",
       "      <td>-1</td>\n",
       "    </tr>\n",
       "    <tr>\n",
       "      <th>4</th>\n",
       "      <td>others</td>\n",
       "      <td>-1</td>\n",
       "    </tr>\n",
       "  </tbody>\n",
       "</table>\n",
       "</div>"
      ],
      "text/plain": [
       "  poutcome  poutcome_encoded\n",
       "0   others                -1\n",
       "1   others                -1\n",
       "2   others                -1\n",
       "3   others                -1\n",
       "4   others                -1"
      ]
     },
     "execution_count": 11,
     "metadata": {},
     "output_type": "execute_result"
    }
   ],
   "source": [
    "df[['poutcome', 'poutcome_encoded']].head()"
   ]
  },
  {
   "cell_type": "code",
   "execution_count": 12,
   "id": "1df6c684",
   "metadata": {},
   "outputs": [],
   "source": [
    "# Frequency encoding for 'job' and 'month'\n",
    "job_freq = df['job'].value_counts(normalize=True)\n",
    "month_freq = df['month'].value_counts(normalize=True)\n",
    "contact_freq = df['contact'].value_counts(normalize=True)\n",
    "marital_freq = df['marital'].value_counts(normalize=True)\n",
    "\n",
    "df['job_encoded'] = df['job'].map(job_freq)\n",
    "df['month_encoded'] = df['month'].map(month_freq)\n",
    "df['contact_encoded'] = df['contact'].map(contact_freq)\n",
    "df['marital_encoded'] = df['marital'].map(marital_freq)"
   ]
  },
  {
   "cell_type": "code",
   "execution_count": 13,
   "id": "3d908ed2",
   "metadata": {},
   "outputs": [
    {
     "data": {
      "text/html": [
       "<div>\n",
       "<style scoped>\n",
       "    .dataframe tbody tr th:only-of-type {\n",
       "        vertical-align: middle;\n",
       "    }\n",
       "\n",
       "    .dataframe tbody tr th {\n",
       "        vertical-align: top;\n",
       "    }\n",
       "\n",
       "    .dataframe thead th {\n",
       "        text-align: right;\n",
       "    }\n",
       "</style>\n",
       "<table border=\"1\" class=\"dataframe\">\n",
       "  <thead>\n",
       "    <tr style=\"text-align: right;\">\n",
       "      <th></th>\n",
       "      <th>job</th>\n",
       "      <th>job_encoded</th>\n",
       "      <th>month</th>\n",
       "      <th>month_encoded</th>\n",
       "    </tr>\n",
       "  </thead>\n",
       "  <tbody>\n",
       "    <tr>\n",
       "      <th>0</th>\n",
       "      <td>management</td>\n",
       "      <td>0.209197</td>\n",
       "      <td>may</td>\n",
       "      <td>0.304483</td>\n",
       "    </tr>\n",
       "    <tr>\n",
       "      <th>1</th>\n",
       "      <td>technician</td>\n",
       "      <td>0.168034</td>\n",
       "      <td>may</td>\n",
       "      <td>0.304483</td>\n",
       "    </tr>\n",
       "    <tr>\n",
       "      <th>2</th>\n",
       "      <td>entrepreneur</td>\n",
       "      <td>0.032890</td>\n",
       "      <td>may</td>\n",
       "      <td>0.304483</td>\n",
       "    </tr>\n",
       "    <tr>\n",
       "      <th>3</th>\n",
       "      <td>blue-collar</td>\n",
       "      <td>0.215257</td>\n",
       "      <td>may</td>\n",
       "      <td>0.304483</td>\n",
       "    </tr>\n",
       "    <tr>\n",
       "      <th>4</th>\n",
       "      <td>unknown</td>\n",
       "      <td>0.006370</td>\n",
       "      <td>may</td>\n",
       "      <td>0.304483</td>\n",
       "    </tr>\n",
       "  </tbody>\n",
       "</table>\n",
       "</div>"
      ],
      "text/plain": [
       "            job  job_encoded month  month_encoded\n",
       "0    management     0.209197   may       0.304483\n",
       "1    technician     0.168034   may       0.304483\n",
       "2  entrepreneur     0.032890   may       0.304483\n",
       "3   blue-collar     0.215257   may       0.304483\n",
       "4       unknown     0.006370   may       0.304483"
      ]
     },
     "execution_count": 13,
     "metadata": {},
     "output_type": "execute_result"
    }
   ],
   "source": [
    "df[['job', 'job_encoded', 'month', 'month_encoded']].head()"
   ]
  },
  {
   "cell_type": "code",
   "execution_count": 14,
   "id": "87d1a186",
   "metadata": {},
   "outputs": [
    {
     "data": {
      "text/html": [
       "<div>\n",
       "<style scoped>\n",
       "    .dataframe tbody tr th:only-of-type {\n",
       "        vertical-align: middle;\n",
       "    }\n",
       "\n",
       "    .dataframe tbody tr th {\n",
       "        vertical-align: top;\n",
       "    }\n",
       "\n",
       "    .dataframe thead th {\n",
       "        text-align: right;\n",
       "    }\n",
       "</style>\n",
       "<table border=\"1\" class=\"dataframe\">\n",
       "  <thead>\n",
       "    <tr style=\"text-align: right;\">\n",
       "      <th></th>\n",
       "      <th>contact</th>\n",
       "      <th>contact_encoded</th>\n",
       "      <th>marital</th>\n",
       "      <th>marital_encoded</th>\n",
       "    </tr>\n",
       "  </thead>\n",
       "  <tbody>\n",
       "    <tr>\n",
       "      <th>0</th>\n",
       "      <td>unknown</td>\n",
       "      <td>0.287983</td>\n",
       "      <td>married</td>\n",
       "      <td>0.601933</td>\n",
       "    </tr>\n",
       "    <tr>\n",
       "      <th>1</th>\n",
       "      <td>unknown</td>\n",
       "      <td>0.287983</td>\n",
       "      <td>single</td>\n",
       "      <td>0.282896</td>\n",
       "    </tr>\n",
       "    <tr>\n",
       "      <th>2</th>\n",
       "      <td>unknown</td>\n",
       "      <td>0.287983</td>\n",
       "      <td>married</td>\n",
       "      <td>0.601933</td>\n",
       "    </tr>\n",
       "    <tr>\n",
       "      <th>3</th>\n",
       "      <td>unknown</td>\n",
       "      <td>0.287983</td>\n",
       "      <td>married</td>\n",
       "      <td>0.601933</td>\n",
       "    </tr>\n",
       "    <tr>\n",
       "      <th>4</th>\n",
       "      <td>unknown</td>\n",
       "      <td>0.287983</td>\n",
       "      <td>single</td>\n",
       "      <td>0.282896</td>\n",
       "    </tr>\n",
       "  </tbody>\n",
       "</table>\n",
       "</div>"
      ],
      "text/plain": [
       "   contact  contact_encoded  marital  marital_encoded\n",
       "0  unknown         0.287983  married         0.601933\n",
       "1  unknown         0.287983   single         0.282896\n",
       "2  unknown         0.287983  married         0.601933\n",
       "3  unknown         0.287983  married         0.601933\n",
       "4  unknown         0.287983   single         0.282896"
      ]
     },
     "execution_count": 14,
     "metadata": {},
     "output_type": "execute_result"
    }
   ],
   "source": [
    "df[['contact', 'contact_encoded', 'marital', 'marital_encoded']].head()"
   ]
  },
  {
   "cell_type": "code",
   "execution_count": 15,
   "id": "15a6fd35",
   "metadata": {},
   "outputs": [
    {
     "data": {
      "text/plain": [
       "['age',\n",
       " 'balance',\n",
       " 'day',\n",
       " 'duration',\n",
       " 'campaign',\n",
       " 'pdays',\n",
       " 'previous',\n",
       " 'education_encoded',\n",
       " 'default_encoded',\n",
       " 'housing_encoded',\n",
       " 'loan_encoded',\n",
       " 'poutcome_encoded',\n",
       " 'job_encoded',\n",
       " 'month_encoded',\n",
       " 'contact_encoded',\n",
       " 'marital_encoded',\n",
       " 'y_encoded']"
      ]
     },
     "execution_count": 15,
     "metadata": {},
     "output_type": "execute_result"
    }
   ],
   "source": [
    "encoded_columns = [\n",
    "    'education_encoded', 'default_encoded', 'housing_encoded', 'loan_encoded', \n",
    "    'poutcome_encoded', 'job_encoded', 'month_encoded', \n",
    "    'contact_encoded', 'marital_encoded', 'y_encoded'\n",
    "]\n",
    "\n",
    "numeric_columns = ['age', 'balance', 'day', 'duration', 'campaign', 'pdays', 'previous']\n",
    "\n",
    "df_encoded = df[numeric_columns + encoded_columns]\n",
    "\n",
    "df_encoded.columns.tolist()"
   ]
  },
  {
   "cell_type": "code",
   "execution_count": 16,
   "id": "7f2bc91a",
   "metadata": {},
   "outputs": [
    {
     "data": {
      "text/html": [
       "<div>\n",
       "<style scoped>\n",
       "    .dataframe tbody tr th:only-of-type {\n",
       "        vertical-align: middle;\n",
       "    }\n",
       "\n",
       "    .dataframe tbody tr th {\n",
       "        vertical-align: top;\n",
       "    }\n",
       "\n",
       "    .dataframe thead th {\n",
       "        text-align: right;\n",
       "    }\n",
       "</style>\n",
       "<table border=\"1\" class=\"dataframe\">\n",
       "  <thead>\n",
       "    <tr style=\"text-align: right;\">\n",
       "      <th></th>\n",
       "      <th>age</th>\n",
       "      <th>balance</th>\n",
       "      <th>day</th>\n",
       "      <th>duration</th>\n",
       "      <th>campaign</th>\n",
       "      <th>pdays</th>\n",
       "      <th>previous</th>\n",
       "      <th>education_encoded</th>\n",
       "      <th>default_encoded</th>\n",
       "      <th>housing_encoded</th>\n",
       "      <th>loan_encoded</th>\n",
       "      <th>poutcome_encoded</th>\n",
       "      <th>job_encoded</th>\n",
       "      <th>month_encoded</th>\n",
       "      <th>contact_encoded</th>\n",
       "      <th>marital_encoded</th>\n",
       "      <th>y_encoded</th>\n",
       "    </tr>\n",
       "  </thead>\n",
       "  <tbody>\n",
       "    <tr>\n",
       "      <th>0</th>\n",
       "      <td>58</td>\n",
       "      <td>2143</td>\n",
       "      <td>5</td>\n",
       "      <td>261</td>\n",
       "      <td>1</td>\n",
       "      <td>-1</td>\n",
       "      <td>0</td>\n",
       "      <td>3</td>\n",
       "      <td>0</td>\n",
       "      <td>1</td>\n",
       "      <td>0</td>\n",
       "      <td>-1</td>\n",
       "      <td>0.209197</td>\n",
       "      <td>0.304483</td>\n",
       "      <td>0.287983</td>\n",
       "      <td>0.601933</td>\n",
       "      <td>0</td>\n",
       "    </tr>\n",
       "    <tr>\n",
       "      <th>1</th>\n",
       "      <td>44</td>\n",
       "      <td>29</td>\n",
       "      <td>5</td>\n",
       "      <td>151</td>\n",
       "      <td>1</td>\n",
       "      <td>-1</td>\n",
       "      <td>0</td>\n",
       "      <td>2</td>\n",
       "      <td>0</td>\n",
       "      <td>1</td>\n",
       "      <td>0</td>\n",
       "      <td>-1</td>\n",
       "      <td>0.168034</td>\n",
       "      <td>0.304483</td>\n",
       "      <td>0.287983</td>\n",
       "      <td>0.282896</td>\n",
       "      <td>0</td>\n",
       "    </tr>\n",
       "    <tr>\n",
       "      <th>2</th>\n",
       "      <td>33</td>\n",
       "      <td>2</td>\n",
       "      <td>5</td>\n",
       "      <td>76</td>\n",
       "      <td>1</td>\n",
       "      <td>-1</td>\n",
       "      <td>0</td>\n",
       "      <td>2</td>\n",
       "      <td>0</td>\n",
       "      <td>1</td>\n",
       "      <td>1</td>\n",
       "      <td>-1</td>\n",
       "      <td>0.032890</td>\n",
       "      <td>0.304483</td>\n",
       "      <td>0.287983</td>\n",
       "      <td>0.601933</td>\n",
       "      <td>0</td>\n",
       "    </tr>\n",
       "    <tr>\n",
       "      <th>3</th>\n",
       "      <td>47</td>\n",
       "      <td>1506</td>\n",
       "      <td>5</td>\n",
       "      <td>92</td>\n",
       "      <td>1</td>\n",
       "      <td>-1</td>\n",
       "      <td>0</td>\n",
       "      <td>0</td>\n",
       "      <td>0</td>\n",
       "      <td>1</td>\n",
       "      <td>0</td>\n",
       "      <td>-1</td>\n",
       "      <td>0.215257</td>\n",
       "      <td>0.304483</td>\n",
       "      <td>0.287983</td>\n",
       "      <td>0.601933</td>\n",
       "      <td>0</td>\n",
       "    </tr>\n",
       "    <tr>\n",
       "      <th>4</th>\n",
       "      <td>33</td>\n",
       "      <td>1</td>\n",
       "      <td>5</td>\n",
       "      <td>198</td>\n",
       "      <td>1</td>\n",
       "      <td>-1</td>\n",
       "      <td>0</td>\n",
       "      <td>0</td>\n",
       "      <td>0</td>\n",
       "      <td>0</td>\n",
       "      <td>0</td>\n",
       "      <td>-1</td>\n",
       "      <td>0.006370</td>\n",
       "      <td>0.304483</td>\n",
       "      <td>0.287983</td>\n",
       "      <td>0.282896</td>\n",
       "      <td>0</td>\n",
       "    </tr>\n",
       "  </tbody>\n",
       "</table>\n",
       "</div>"
      ],
      "text/plain": [
       "   age  balance  day  duration  campaign  pdays  previous  education_encoded  \\\n",
       "0   58     2143    5       261         1     -1         0                  3   \n",
       "1   44       29    5       151         1     -1         0                  2   \n",
       "2   33        2    5        76         1     -1         0                  2   \n",
       "3   47     1506    5        92         1     -1         0                  0   \n",
       "4   33        1    5       198         1     -1         0                  0   \n",
       "\n",
       "   default_encoded  housing_encoded  loan_encoded  poutcome_encoded  \\\n",
       "0                0                1             0                -1   \n",
       "1                0                1             0                -1   \n",
       "2                0                1             1                -1   \n",
       "3                0                1             0                -1   \n",
       "4                0                0             0                -1   \n",
       "\n",
       "   job_encoded  month_encoded  contact_encoded  marital_encoded  y_encoded  \n",
       "0     0.209197       0.304483         0.287983         0.601933          0  \n",
       "1     0.168034       0.304483         0.287983         0.282896          0  \n",
       "2     0.032890       0.304483         0.287983         0.601933          0  \n",
       "3     0.215257       0.304483         0.287983         0.601933          0  \n",
       "4     0.006370       0.304483         0.287983         0.282896          0  "
      ]
     },
     "execution_count": 16,
     "metadata": {},
     "output_type": "execute_result"
    }
   ],
   "source": [
    "df_encoded.head()"
   ]
  },
  {
   "cell_type": "code",
   "execution_count": 17,
   "id": "3538ee31",
   "metadata": {},
   "outputs": [
    {
     "data": {
      "text/plain": [
       "(45211, 17)"
      ]
     },
     "execution_count": 17,
     "metadata": {},
     "output_type": "execute_result"
    }
   ],
   "source": [
    "df_encoded.shape"
   ]
  },
  {
   "cell_type": "code",
   "execution_count": 18,
   "id": "ef247881",
   "metadata": {},
   "outputs": [
    {
     "data": {
      "text/html": [
       "<div>\n",
       "<style scoped>\n",
       "    .dataframe tbody tr th:only-of-type {\n",
       "        vertical-align: middle;\n",
       "    }\n",
       "\n",
       "    .dataframe tbody tr th {\n",
       "        vertical-align: top;\n",
       "    }\n",
       "\n",
       "    .dataframe thead th {\n",
       "        text-align: right;\n",
       "    }\n",
       "</style>\n",
       "<table border=\"1\" class=\"dataframe\">\n",
       "  <thead>\n",
       "    <tr style=\"text-align: right;\">\n",
       "      <th></th>\n",
       "      <th>age</th>\n",
       "      <th>job</th>\n",
       "      <th>marital</th>\n",
       "      <th>education</th>\n",
       "      <th>default</th>\n",
       "      <th>balance</th>\n",
       "      <th>housing</th>\n",
       "      <th>loan</th>\n",
       "      <th>contact</th>\n",
       "      <th>day</th>\n",
       "      <th>month</th>\n",
       "      <th>duration</th>\n",
       "      <th>campaign</th>\n",
       "      <th>pdays</th>\n",
       "      <th>previous</th>\n",
       "      <th>poutcome</th>\n",
       "      <th>y</th>\n",
       "    </tr>\n",
       "  </thead>\n",
       "  <tbody>\n",
       "    <tr>\n",
       "      <th>0</th>\n",
       "      <td>58</td>\n",
       "      <td>management</td>\n",
       "      <td>married</td>\n",
       "      <td>tertiary</td>\n",
       "      <td>no</td>\n",
       "      <td>2143</td>\n",
       "      <td>yes</td>\n",
       "      <td>no</td>\n",
       "      <td>unknown</td>\n",
       "      <td>5</td>\n",
       "      <td>may</td>\n",
       "      <td>261</td>\n",
       "      <td>1</td>\n",
       "      <td>-1</td>\n",
       "      <td>0</td>\n",
       "      <td>unknown</td>\n",
       "      <td>no</td>\n",
       "    </tr>\n",
       "    <tr>\n",
       "      <th>1</th>\n",
       "      <td>44</td>\n",
       "      <td>technician</td>\n",
       "      <td>single</td>\n",
       "      <td>secondary</td>\n",
       "      <td>no</td>\n",
       "      <td>29</td>\n",
       "      <td>yes</td>\n",
       "      <td>no</td>\n",
       "      <td>unknown</td>\n",
       "      <td>5</td>\n",
       "      <td>may</td>\n",
       "      <td>151</td>\n",
       "      <td>1</td>\n",
       "      <td>-1</td>\n",
       "      <td>0</td>\n",
       "      <td>unknown</td>\n",
       "      <td>no</td>\n",
       "    </tr>\n",
       "    <tr>\n",
       "      <th>2</th>\n",
       "      <td>33</td>\n",
       "      <td>entrepreneur</td>\n",
       "      <td>married</td>\n",
       "      <td>secondary</td>\n",
       "      <td>no</td>\n",
       "      <td>2</td>\n",
       "      <td>yes</td>\n",
       "      <td>yes</td>\n",
       "      <td>unknown</td>\n",
       "      <td>5</td>\n",
       "      <td>may</td>\n",
       "      <td>76</td>\n",
       "      <td>1</td>\n",
       "      <td>-1</td>\n",
       "      <td>0</td>\n",
       "      <td>unknown</td>\n",
       "      <td>no</td>\n",
       "    </tr>\n",
       "    <tr>\n",
       "      <th>3</th>\n",
       "      <td>47</td>\n",
       "      <td>blue-collar</td>\n",
       "      <td>married</td>\n",
       "      <td>unknown</td>\n",
       "      <td>no</td>\n",
       "      <td>1506</td>\n",
       "      <td>yes</td>\n",
       "      <td>no</td>\n",
       "      <td>unknown</td>\n",
       "      <td>5</td>\n",
       "      <td>may</td>\n",
       "      <td>92</td>\n",
       "      <td>1</td>\n",
       "      <td>-1</td>\n",
       "      <td>0</td>\n",
       "      <td>unknown</td>\n",
       "      <td>no</td>\n",
       "    </tr>\n",
       "    <tr>\n",
       "      <th>4</th>\n",
       "      <td>33</td>\n",
       "      <td>unknown</td>\n",
       "      <td>single</td>\n",
       "      <td>unknown</td>\n",
       "      <td>no</td>\n",
       "      <td>1</td>\n",
       "      <td>no</td>\n",
       "      <td>no</td>\n",
       "      <td>unknown</td>\n",
       "      <td>5</td>\n",
       "      <td>may</td>\n",
       "      <td>198</td>\n",
       "      <td>1</td>\n",
       "      <td>-1</td>\n",
       "      <td>0</td>\n",
       "      <td>unknown</td>\n",
       "      <td>no</td>\n",
       "    </tr>\n",
       "  </tbody>\n",
       "</table>\n",
       "</div>"
      ],
      "text/plain": [
       "   age           job  marital  education default  balance housing loan  \\\n",
       "0   58    management  married   tertiary      no     2143     yes   no   \n",
       "1   44    technician   single  secondary      no       29     yes   no   \n",
       "2   33  entrepreneur  married  secondary      no        2     yes  yes   \n",
       "3   47   blue-collar  married    unknown      no     1506     yes   no   \n",
       "4   33       unknown   single    unknown      no        1      no   no   \n",
       "\n",
       "   contact  day month  duration  campaign  pdays  previous poutcome   y  \n",
       "0  unknown    5   may       261         1     -1         0  unknown  no  \n",
       "1  unknown    5   may       151         1     -1         0  unknown  no  \n",
       "2  unknown    5   may        76         1     -1         0  unknown  no  \n",
       "3  unknown    5   may        92         1     -1         0  unknown  no  \n",
       "4  unknown    5   may       198         1     -1         0  unknown  no  "
      ]
     },
     "execution_count": 18,
     "metadata": {},
     "output_type": "execute_result"
    }
   ],
   "source": [
    "df_original.head()"
   ]
  },
  {
   "cell_type": "code",
   "execution_count": 19,
   "id": "179fda43",
   "metadata": {},
   "outputs": [
    {
     "data": {
      "text/plain": [
       "(45211, 17)"
      ]
     },
     "execution_count": 19,
     "metadata": {},
     "output_type": "execute_result"
    }
   ],
   "source": [
    "df_original.shape"
   ]
  },
  {
   "cell_type": "code",
   "execution_count": 20,
   "id": "ee9ad752",
   "metadata": {},
   "outputs": [
    {
     "data": {
      "text/html": [
       "<div>\n",
       "<style scoped>\n",
       "    .dataframe tbody tr th:only-of-type {\n",
       "        vertical-align: middle;\n",
       "    }\n",
       "\n",
       "    .dataframe tbody tr th {\n",
       "        vertical-align: top;\n",
       "    }\n",
       "\n",
       "    .dataframe thead th {\n",
       "        text-align: right;\n",
       "    }\n",
       "</style>\n",
       "<table border=\"1\" class=\"dataframe\">\n",
       "  <thead>\n",
       "    <tr style=\"text-align: right;\">\n",
       "      <th></th>\n",
       "      <th>education_encoded</th>\n",
       "      <th>default_encoded</th>\n",
       "      <th>housing_encoded</th>\n",
       "      <th>loan_encoded</th>\n",
       "      <th>poutcome_encoded</th>\n",
       "      <th>job_encoded</th>\n",
       "      <th>month_encoded</th>\n",
       "      <th>contact_encoded</th>\n",
       "      <th>marital_encoded</th>\n",
       "      <th>y_encoded</th>\n",
       "    </tr>\n",
       "  </thead>\n",
       "  <tbody>\n",
       "    <tr>\n",
       "      <th>0</th>\n",
       "      <td>3</td>\n",
       "      <td>0</td>\n",
       "      <td>1</td>\n",
       "      <td>0</td>\n",
       "      <td>-1</td>\n",
       "      <td>0.209197</td>\n",
       "      <td>0.304483</td>\n",
       "      <td>0.287983</td>\n",
       "      <td>0.601933</td>\n",
       "      <td>0</td>\n",
       "    </tr>\n",
       "    <tr>\n",
       "      <th>1</th>\n",
       "      <td>2</td>\n",
       "      <td>0</td>\n",
       "      <td>1</td>\n",
       "      <td>0</td>\n",
       "      <td>-1</td>\n",
       "      <td>0.168034</td>\n",
       "      <td>0.304483</td>\n",
       "      <td>0.287983</td>\n",
       "      <td>0.282896</td>\n",
       "      <td>0</td>\n",
       "    </tr>\n",
       "    <tr>\n",
       "      <th>2</th>\n",
       "      <td>2</td>\n",
       "      <td>0</td>\n",
       "      <td>1</td>\n",
       "      <td>1</td>\n",
       "      <td>-1</td>\n",
       "      <td>0.032890</td>\n",
       "      <td>0.304483</td>\n",
       "      <td>0.287983</td>\n",
       "      <td>0.601933</td>\n",
       "      <td>0</td>\n",
       "    </tr>\n",
       "    <tr>\n",
       "      <th>3</th>\n",
       "      <td>0</td>\n",
       "      <td>0</td>\n",
       "      <td>1</td>\n",
       "      <td>0</td>\n",
       "      <td>-1</td>\n",
       "      <td>0.215257</td>\n",
       "      <td>0.304483</td>\n",
       "      <td>0.287983</td>\n",
       "      <td>0.601933</td>\n",
       "      <td>0</td>\n",
       "    </tr>\n",
       "    <tr>\n",
       "      <th>4</th>\n",
       "      <td>0</td>\n",
       "      <td>0</td>\n",
       "      <td>0</td>\n",
       "      <td>0</td>\n",
       "      <td>-1</td>\n",
       "      <td>0.006370</td>\n",
       "      <td>0.304483</td>\n",
       "      <td>0.287983</td>\n",
       "      <td>0.282896</td>\n",
       "      <td>0</td>\n",
       "    </tr>\n",
       "  </tbody>\n",
       "</table>\n",
       "</div>"
      ],
      "text/plain": [
       "   education_encoded  default_encoded  housing_encoded  loan_encoded  \\\n",
       "0                  3                0                1             0   \n",
       "1                  2                0                1             0   \n",
       "2                  2                0                1             1   \n",
       "3                  0                0                1             0   \n",
       "4                  0                0                0             0   \n",
       "\n",
       "   poutcome_encoded  job_encoded  month_encoded  contact_encoded  \\\n",
       "0                -1     0.209197       0.304483         0.287983   \n",
       "1                -1     0.168034       0.304483         0.287983   \n",
       "2                -1     0.032890       0.304483         0.287983   \n",
       "3                -1     0.215257       0.304483         0.287983   \n",
       "4                -1     0.006370       0.304483         0.287983   \n",
       "\n",
       "   marital_encoded  y_encoded  \n",
       "0         0.601933          0  \n",
       "1         0.282896          0  \n",
       "2         0.601933          0  \n",
       "3         0.601933          0  \n",
       "4         0.282896          0  "
      ]
     },
     "execution_count": 20,
     "metadata": {},
     "output_type": "execute_result"
    }
   ],
   "source": [
    "# df_temp = df[encoded_columns]\n",
    "# df_temp.head()"
   ]
  },
  {
   "cell_type": "code",
   "execution_count": 21,
   "id": "a959ca2e",
   "metadata": {},
   "outputs": [
    {
     "data": {
      "text/html": [
       "<div>\n",
       "<style scoped>\n",
       "    .dataframe tbody tr th:only-of-type {\n",
       "        vertical-align: middle;\n",
       "    }\n",
       "\n",
       "    .dataframe tbody tr th {\n",
       "        vertical-align: top;\n",
       "    }\n",
       "\n",
       "    .dataframe thead th {\n",
       "        text-align: right;\n",
       "    }\n",
       "</style>\n",
       "<table border=\"1\" class=\"dataframe\">\n",
       "  <thead>\n",
       "    <tr style=\"text-align: right;\">\n",
       "      <th></th>\n",
       "      <th>age</th>\n",
       "      <th>balance</th>\n",
       "      <th>day</th>\n",
       "      <th>duration</th>\n",
       "      <th>campaign</th>\n",
       "      <th>pdays</th>\n",
       "      <th>previous</th>\n",
       "    </tr>\n",
       "  </thead>\n",
       "  <tbody>\n",
       "    <tr>\n",
       "      <th>0</th>\n",
       "      <td>58</td>\n",
       "      <td>2143</td>\n",
       "      <td>5</td>\n",
       "      <td>261</td>\n",
       "      <td>1</td>\n",
       "      <td>-1</td>\n",
       "      <td>0</td>\n",
       "    </tr>\n",
       "    <tr>\n",
       "      <th>1</th>\n",
       "      <td>44</td>\n",
       "      <td>29</td>\n",
       "      <td>5</td>\n",
       "      <td>151</td>\n",
       "      <td>1</td>\n",
       "      <td>-1</td>\n",
       "      <td>0</td>\n",
       "    </tr>\n",
       "    <tr>\n",
       "      <th>2</th>\n",
       "      <td>33</td>\n",
       "      <td>2</td>\n",
       "      <td>5</td>\n",
       "      <td>76</td>\n",
       "      <td>1</td>\n",
       "      <td>-1</td>\n",
       "      <td>0</td>\n",
       "    </tr>\n",
       "    <tr>\n",
       "      <th>3</th>\n",
       "      <td>47</td>\n",
       "      <td>1506</td>\n",
       "      <td>5</td>\n",
       "      <td>92</td>\n",
       "      <td>1</td>\n",
       "      <td>-1</td>\n",
       "      <td>0</td>\n",
       "    </tr>\n",
       "    <tr>\n",
       "      <th>4</th>\n",
       "      <td>33</td>\n",
       "      <td>1</td>\n",
       "      <td>5</td>\n",
       "      <td>198</td>\n",
       "      <td>1</td>\n",
       "      <td>-1</td>\n",
       "      <td>0</td>\n",
       "    </tr>\n",
       "  </tbody>\n",
       "</table>\n",
       "</div>"
      ],
      "text/plain": [
       "   age  balance  day  duration  campaign  pdays  previous\n",
       "0   58     2143    5       261         1     -1         0\n",
       "1   44       29    5       151         1     -1         0\n",
       "2   33        2    5        76         1     -1         0\n",
       "3   47     1506    5        92         1     -1         0\n",
       "4   33        1    5       198         1     -1         0"
      ]
     },
     "execution_count": 21,
     "metadata": {},
     "output_type": "execute_result"
    }
   ],
   "source": [
    "freq_encoded_columns = ['job_encoded', 'month_encoded', 'contact_encoded', 'marital_encoded']\n",
    "\n",
    "x_out = df_encoded[numeric_columns]\n",
    "\n",
    "x_out.head()"
   ]
  },
  {
   "cell_type": "code",
   "execution_count": 22,
   "id": "5b0296b9",
   "metadata": {},
   "outputs": [],
   "source": [
    "# Applying IQR\n",
    "Q1 = x_out.quantile(0.25)\n",
    "Q3 = x_out.quantile(0.75)\n",
    "IQR = Q3 - Q1\n",
    "outliers_iqr = ((x_out < (Q1 - 1.5 * IQR)) | (x_out > (Q3 + 1.5 * IQR))).any(axis=1)\n",
    "\n",
    "# Applying Isolation Forest\n",
    "iso_forest = IsolationForest(random_state=527)\n",
    "outliers_iso_forest = iso_forest.fit_predict(x_out) == -1\n",
    "\n",
    "# Applying Local Outlier Factor\n",
    "lof = LocalOutlierFactor()\n",
    "outliers_lof = lof.fit_predict(x_out) == -1\n",
    "\n",
    "# Counting the number of outliers\n",
    "outliers_count = {\n",
    "    \"IQR\": np.sum(outliers_iqr),\n",
    "    \"Isolation Forest\": np.sum(outliers_iso_forest),\n",
    "    \"Local Outlier Factor\": np.sum(outliers_lof)\n",
    "}"
   ]
  },
  {
   "cell_type": "code",
   "execution_count": 23,
   "id": "91e49110",
   "metadata": {},
   "outputs": [
    {
     "data": {
      "text/plain": [
       "{'IQR': 17018, 'Isolation Forest': 5387, 'Local Outlier Factor': 807}"
      ]
     },
     "execution_count": 23,
     "metadata": {},
     "output_type": "execute_result"
    }
   ],
   "source": [
    "outliers_count"
   ]
  },
  {
   "cell_type": "code",
   "execution_count": 24,
   "id": "2ea7ae41",
   "metadata": {},
   "outputs": [],
   "source": [
    "# Original encoded dataset\n",
    "df_encoded_original = df_encoded.copy()\n",
    "\n",
    "# Encoded dataset without IQR detected outliers\n",
    "df_encoded_without_iqr_outliers = df_encoded[~outliers_iqr]\n",
    "\n",
    "# Encoded dataset without Isolation Forest detected outliers\n",
    "df_encoded_without_iso_forest_outliers = df_encoded[~outliers_iso_forest]\n",
    "\n",
    "# Encoded dataset without LOF detected outliers\n",
    "df_encoded_without_lof_outliers = df_encoded[~outliers_lof]\n",
    "\n",
    "datasets_shapes = {\n",
    "    \"Original Encoded Dataset\": df_encoded_original.shape,\n",
    "    \"Without IQR Outliers\": df_encoded_without_iqr_outliers.shape,\n",
    "    \"Without Isolation Forest Outliers\": df_encoded_without_iso_forest_outliers.shape,\n",
    "    \"Without LOF Outliers\": df_encoded_without_lof_outliers.shape\n",
    "}"
   ]
  },
  {
   "cell_type": "code",
   "execution_count": 25,
   "id": "721d735e",
   "metadata": {},
   "outputs": [
    {
     "data": {
      "text/plain": [
       "{'Original Encoded Dataset': (45211, 17),\n",
       " 'Without IQR Outliers': (28193, 17),\n",
       " 'Without Isolation Forest Outliers': (39824, 17),\n",
       " 'Without LOF Outliers': (44404, 17)}"
      ]
     },
     "execution_count": 25,
     "metadata": {},
     "output_type": "execute_result"
    }
   ],
   "source": [
    "datasets_shapes"
   ]
  },
  {
   "cell_type": "code",
   "execution_count": 35,
   "id": "4da35a78",
   "metadata": {},
   "outputs": [],
   "source": [
    "# orginial encoded data\n",
    "X = df_encoded_original.drop('y_encoded', axis=1)\n",
    "y = df_encoded_original['y_encoded']\n",
    "\n",
    "X_train, X_test, y_train, y_test = train_test_split(X, y, test_size=0.3, random_state=527)"
   ]
  },
  {
   "cell_type": "code",
   "execution_count": 27,
   "id": "616b7924",
   "metadata": {},
   "outputs": [
    {
     "data": {
      "text/plain": [
       "0.8406812149808316"
      ]
     },
     "execution_count": 27,
     "metadata": {},
     "output_type": "execute_result"
    }
   ],
   "source": [
    "gnb = GaussianNB()\n",
    "\n",
    "gnb.fit(X_train, y_train)\n",
    "\n",
    "gnb_accuracy = gnb.score(X_test, y_test)\n",
    "\n",
    "gnb_accuracy"
   ]
  },
  {
   "cell_type": "code",
   "execution_count": 28,
   "id": "e809ff8b",
   "metadata": {},
   "outputs": [
    {
     "data": {
      "text/plain": [
       "0.9076968445886169"
      ]
     },
     "execution_count": 28,
     "metadata": {},
     "output_type": "execute_result"
    }
   ],
   "source": [
    "hgb = HistGradientBoostingClassifier(random_state=527)\n",
    "\n",
    "hgb.fit(X_train, y_train)\n",
    "\n",
    "hgb_accuracy = hgb.score(X_test, y_test)\n",
    "\n",
    "hgb_accuracy"
   ]
  },
  {
   "cell_type": "code",
   "execution_count": 29,
   "id": "b37c3350",
   "metadata": {},
   "outputs": [
    {
     "data": {
      "text/plain": [
       "0.8627248599233265"
      ]
     },
     "execution_count": 29,
     "metadata": {},
     "output_type": "execute_result"
    }
   ],
   "source": [
    "sgd = SGDClassifier(random_state=527)\n",
    "\n",
    "sgd.fit(X_train, y_train)\n",
    "\n",
    "sgd_accuracy = sgd.score(X_test, y_test)\n",
    "\n",
    "sgd_accuracy"
   ]
  },
  {
   "cell_type": "code",
   "execution_count": 30,
   "id": "dd97946d",
   "metadata": {},
   "outputs": [
    {
     "data": {
      "text/plain": [
       "0.8836626363904453"
      ]
     },
     "execution_count": 30,
     "metadata": {},
     "output_type": "execute_result"
    }
   ],
   "source": [
    "sgd_rbf = make_pipeline(RBFSampler(gamma=1, random_state=527), SGDClassifier(random_state=527))\n",
    "\n",
    "sgd_rbf.fit(X_train, y_train)\n",
    "\n",
    "sgd_rbf_accuracy = sgd_rbf.score(X_test, y_test)\n",
    "\n",
    "sgd_rbf_accuracy"
   ]
  },
  {
   "cell_type": "code",
   "execution_count": 91,
   "id": "fabe68fe",
   "metadata": {},
   "outputs": [],
   "source": [
    "# data without isolation forest\n",
    "X = df_encoded_without_iso_forest_outliers.drop('y_encoded', axis=1)\n",
    "y = df_encoded_without_iso_forest_outliers['y_encoded']\n",
    "\n",
    "X_train, X_test, y_train, y_test = train_test_split(X, y, test_size=0.3, random_state=527)"
   ]
  },
  {
   "cell_type": "code",
   "execution_count": 92,
   "id": "e4ff92da",
   "metadata": {},
   "outputs": [
    {
     "data": {
      "text/plain": [
       "0.8654168061600268"
      ]
     },
     "execution_count": 92,
     "metadata": {},
     "output_type": "execute_result"
    }
   ],
   "source": [
    "gnb = GaussianNB()\n",
    "\n",
    "gnb.fit(X_train, y_train)\n",
    "\n",
    "gnb_accuracy = gnb.score(X_test, y_test)\n",
    "\n",
    "gnb_accuracy"
   ]
  },
  {
   "cell_type": "code",
   "execution_count": 93,
   "id": "712d3390",
   "metadata": {},
   "outputs": [
    {
     "data": {
      "text/plain": [
       "0.9208235687981252"
      ]
     },
     "execution_count": 93,
     "metadata": {},
     "output_type": "execute_result"
    }
   ],
   "source": [
    "hgb = HistGradientBoostingClassifier(random_state=527)\n",
    "\n",
    "hgb.fit(X_train, y_train)\n",
    "\n",
    "hgb_accuracy = hgb.score(X_test, y_test)\n",
    "\n",
    "hgb_accuracy"
   ]
  },
  {
   "cell_type": "code",
   "execution_count": 94,
   "id": "f4355fa7",
   "metadata": {},
   "outputs": [
    {
     "data": {
      "text/plain": [
       "0.6257951121526615"
      ]
     },
     "execution_count": 94,
     "metadata": {},
     "output_type": "execute_result"
    }
   ],
   "source": [
    "sgd = SGDClassifier(random_state=527)\n",
    "\n",
    "sgd.fit(X_train, y_train)\n",
    "\n",
    "sgd_accuracy = sgd.score(X_test, y_test)\n",
    "\n",
    "sgd_accuracy"
   ]
  },
  {
   "cell_type": "code",
   "execution_count": 95,
   "id": "e3af2fde",
   "metadata": {},
   "outputs": [
    {
     "data": {
      "text/plain": [
       "0.9066789420823569"
      ]
     },
     "execution_count": 95,
     "metadata": {},
     "output_type": "execute_result"
    }
   ],
   "source": [
    "sgd_rbf = make_pipeline(RBFSampler(gamma=1, random_state=527), SGDClassifier(random_state=527))\n",
    "\n",
    "sgd_rbf.fit(X_train, y_train)\n",
    "\n",
    "sgd_rbf_accuracy = sgd_rbf.score(X_test, y_test)\n",
    "\n",
    "sgd_rbf_accuracy"
   ]
  },
  {
   "cell_type": "code",
   "execution_count": 96,
   "id": "b2db72bc",
   "metadata": {},
   "outputs": [],
   "source": [
    "# data without lof\n",
    "X = df_encoded_without_lof_outliers.drop('y_encoded', axis=1)\n",
    "y = df_encoded_without_lof_outliers['y_encoded']\n",
    "\n",
    "X_train, X_test, y_train, y_test = train_test_split(X, y, test_size=0.3, random_state=527)"
   ]
  },
  {
   "cell_type": "code",
   "execution_count": 97,
   "id": "591f734e",
   "metadata": {},
   "outputs": [
    {
     "data": {
      "text/plain": [
       "0.8467197117549917"
      ]
     },
     "execution_count": 97,
     "metadata": {},
     "output_type": "execute_result"
    }
   ],
   "source": [
    "gnb = GaussianNB()\n",
    "\n",
    "gnb.fit(X_train, y_train)\n",
    "\n",
    "gnb_accuracy = gnb.score(X_test, y_test)\n",
    "\n",
    "gnb_accuracy"
   ]
  },
  {
   "cell_type": "code",
   "execution_count": 98,
   "id": "ee732ac2",
   "metadata": {},
   "outputs": [
    {
     "data": {
      "text/plain": [
       "0.9092478606815794"
      ]
     },
     "execution_count": 98,
     "metadata": {},
     "output_type": "execute_result"
    }
   ],
   "source": [
    "hgb = HistGradientBoostingClassifier(random_state=527)\n",
    "\n",
    "hgb.fit(X_train, y_train)\n",
    "\n",
    "hgb_accuracy = hgb.score(X_test, y_test)\n",
    "\n",
    "hgb_accuracy"
   ]
  },
  {
   "cell_type": "code",
   "execution_count": 99,
   "id": "05e3de9f",
   "metadata": {},
   "outputs": [
    {
     "data": {
      "text/plain": [
       "0.8280288245008257"
      ]
     },
     "execution_count": 99,
     "metadata": {},
     "output_type": "execute_result"
    }
   ],
   "source": [
    "sgd = SGDClassifier(random_state=527)\n",
    "\n",
    "sgd.fit(X_train, y_train)\n",
    "\n",
    "sgd_accuracy = sgd.score(X_test, y_test)\n",
    "\n",
    "sgd_accuracy"
   ]
  },
  {
   "cell_type": "code",
   "execution_count": 100,
   "id": "b47cfd49",
   "metadata": {},
   "outputs": [
    {
     "data": {
      "text/plain": [
       "0.8859780813691638"
      ]
     },
     "execution_count": 100,
     "metadata": {},
     "output_type": "execute_result"
    }
   ],
   "source": [
    "sgd_rbf = make_pipeline(RBFSampler(gamma=1, random_state=527), SGDClassifier(random_state=527))\n",
    "\n",
    "sgd_rbf.fit(X_train, y_train)\n",
    "\n",
    "sgd_rbf_accuracy = sgd_rbf.score(X_test, y_test)\n",
    "\n",
    "sgd_rbf_accuracy"
   ]
  },
  {
   "cell_type": "code",
   "execution_count": null,
   "id": "92fb0762",
   "metadata": {},
   "outputs": [],
   "source": []
  },
  {
   "cell_type": "code",
   "execution_count": null,
   "id": "fb4f74d0",
   "metadata": {},
   "outputs": [],
   "source": []
  },
  {
   "cell_type": "code",
   "execution_count": null,
   "id": "3328cbf4",
   "metadata": {},
   "outputs": [],
   "source": []
  },
  {
   "cell_type": "code",
   "execution_count": null,
   "id": "44d9c2b6",
   "metadata": {},
   "outputs": [],
   "source": []
  },
  {
   "cell_type": "code",
   "execution_count": null,
   "id": "09c61865",
   "metadata": {},
   "outputs": [],
   "source": []
  },
  {
   "cell_type": "code",
   "execution_count": null,
   "id": "c8e78bbe",
   "metadata": {},
   "outputs": [],
   "source": []
  },
  {
   "cell_type": "code",
   "execution_count": null,
   "id": "2d2a98db",
   "metadata": {},
   "outputs": [],
   "source": []
  }
 ],
 "metadata": {
  "kernelspec": {
   "display_name": "Python 3 (ipykernel)",
   "language": "python",
   "name": "python3"
  },
  "language_info": {
   "codemirror_mode": {
    "name": "ipython",
    "version": 3
   },
   "file_extension": ".py",
   "mimetype": "text/x-python",
   "name": "python",
   "nbconvert_exporter": "python",
   "pygments_lexer": "ipython3",
   "version": "3.11.4"
  }
 },
 "nbformat": 4,
 "nbformat_minor": 5
}
